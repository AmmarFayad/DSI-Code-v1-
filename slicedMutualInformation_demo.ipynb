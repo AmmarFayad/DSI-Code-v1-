{
 "cells": [
  {
   "cell_type": "code",
   "execution_count": 1,
   "metadata": {},
   "outputs": [],
   "source": [
    "import numpy as np\n",
    "from sklearn.neighbors import NearestNeighbors\n",
    "import matplotlib.pyplot as plt"
   ]
  },
  {
   "cell_type": "code",
   "execution_count": 2,
   "metadata": {},
   "outputs": [],
   "source": [
    "def entropy_KL1(data):\n",
    "    #KL entropy estimator, with k=1 nearest neighbor\n",
    "    k= 1\n",
    "    nbrs = NearestNeighbors(n_neighbors=2, algorithm='ball_tree').fit(data.transpose())\n",
    "    distances, indices = nbrs.kneighbors(data.transpose())\n",
    "    dist_nearest = (distances[:,1]).transpose()\n",
    "    if data.shape[0] == 1:\n",
    "        vols_nearest = 2*dist_nearest\n",
    "    elif data.shape[0] == 2:\n",
    "        vols_nearest = np.pi * (dist_nearest)**2\n",
    "    Hhat = np.log(k) + .5772156 + (1/data.shape[1]) * np.sum(np.log(data.shape[1]/k*vols_nearest))\n",
    "    return Hhat"
   ]
  },
  {
   "cell_type": "code",
   "execution_count": 3,
   "metadata": {},
   "outputs": [],
   "source": [
    "#Sliced MI functions using entropy_KL1 as 1-dimensional entropy estimator\n",
    "def project_data(data, theta):\n",
    "    return np.expand_dims(theta @ data,axis=0)\n",
    "\n",
    "def sliced_MI(dataX, dataY, nMC):\n",
    "    dX = dataX.shape[0]\n",
    "    dY = dataY.shape[0]\n",
    "    MI_slice = np.zeros(nMC)\n",
    "    for i in range(nMC):\n",
    "        #generate theta, phi\n",
    "        vecT = np.random.randn(dX)\n",
    "        theta = vecT/np.linalg.norm(vecT)\n",
    "        vecP = np.random.randn(dY)\n",
    "        phi = vecP/np.linalg.norm(vecP)\n",
    "        #Project\n",
    "        Xproj = project_data(dataX,theta)\n",
    "        Yproj = project_data(dataY,phi)\n",
    "        #Estimate sliced MI\n",
    "        MI_slice[i] = -entropy_KL1(np.vstack((Xproj, Yproj))) + entropy_KL1(Xproj) + entropy_KL1(Yproj)\n",
    "        \n",
    "    return np.mean(MI_slice), MI_slice\n"
   ]
  },
  {
   "cell_type": "code",
   "execution_count": 10,
   "metadata": {},
   "outputs": [
    {
     "name": "stdout",
     "output_type": "stream",
     "text": [
      "0,0\n",
      "0,1\n",
      "0,2\n",
      "0,3\n",
      "0,4\n",
      "1,0\n",
      "1,1\n",
      "1,2\n",
      "1,3\n",
      "1,4\n",
      "2,0\n",
      "2,1\n",
      "2,2\n",
      "2,3\n",
      "2,4\n",
      "3,0\n",
      "3,1\n",
      "3,2\n",
      "3,3\n",
      "3,4\n",
      "4,0\n",
      "4,1\n",
      "4,2\n",
      "4,3\n",
      "4,4\n",
      "5,0\n",
      "5,1\n",
      "5,2\n",
      "5,3\n",
      "5,4\n",
      "6,0\n",
      "6,1\n",
      "6,2\n",
      "6,3\n",
      "6,4\n",
      "7,0\n",
      "7,1\n",
      "7,2\n",
      "7,3\n",
      "7,4\n",
      "8,0\n",
      "8,1\n",
      "8,2\n",
      "8,3\n",
      "8,4\n",
      "9,0\n",
      "9,1\n",
      "9,2\n",
      "9,3\n",
      "9,4\n",
      "10,0\n",
      "10,1\n",
      "10,2\n",
      "10,3\n",
      "10,4\n",
      "11,0\n",
      "11,1\n",
      "11,2\n",
      "11,3\n",
      "11,4\n",
      "12,0\n",
      "12,1\n",
      "12,2\n",
      "12,3\n",
      "12,4\n",
      "13,0\n",
      "13,1\n",
      "13,2\n",
      "13,3\n",
      "13,4\n",
      "14,0\n",
      "14,1\n",
      "14,2\n",
      "14,3\n",
      "14,4\n",
      "15,0\n",
      "15,1\n",
      "15,2\n",
      "15,3\n",
      "15,4\n",
      "16,0\n",
      "16,1\n",
      "16,2\n",
      "16,3\n",
      "16,4\n",
      "17,0\n",
      "17,1\n",
      "17,2\n",
      "17,3\n",
      "17,4\n",
      "18,0\n",
      "18,1\n",
      "18,2\n",
      "18,3\n",
      "18,4\n",
      "19,0\n",
      "19,1\n",
      "19,2\n",
      "19,3\n",
      "19,4\n"
     ]
    }
   ],
   "source": [
    "#Demo experiment:\n",
    "#     SMI between subsets of an 5-dimensional standard normal random vector X, specifically SMI(X_{0:3}; X_{1:4})\n",
    "#     \n",
    "\n",
    "#Number of independent experiments to smooth the plots\n",
    "nmc = 20\n",
    "#Maximum dataset size/number of slices to plot\n",
    "n = 100\n",
    "#mags = np.random.rand(15)\n",
    "mn_est = np.zeros(nmc)\n",
    "ns = (np.ceil(np.logspace(1, np.log10(n), 5))).astype(int)\n",
    "val0 = np.zeros((nmc,len(ns)))\n",
    "val1 = np.zeros((nmc,len(ns)))\n",
    "val2 = np.zeros((nmc,len(ns)))\n",
    "for j in range(nmc):\n",
    "    data = np.random.randn(5, 10*n)\n",
    "    X = data[0:3,:]\n",
    "    Y = data[1:4,:] \n",
    "    mn_est[j], MI_slice = sliced_MI(X,Y, n)\n",
    "    ests = np.cumsum(MI_slice) / np.arange(1,n + 1)\n",
    "\n",
    "\n",
    "\n",
    "    ns = (np.ceil(np.logspace(1, np.log10(n), 5))).astype(int)\n",
    "    \n",
    "    #For each value in ns, SMI computed using ns slices and 10*n datapoints\n",
    "    val0[j,:] = ests[ns-1]\n",
    "    \n",
    "    for i in range(len(ns)):\n",
    "        #For each value in ns, SMI computed using ns datapoints and 10*n slices\n",
    "        val1[j,i],dummy = sliced_MI(X[:,:ns[i]], Y[:,:ns[i]], n)\n",
    "        #For each value in ns, SMI computed using ns slices and ns datapoints\n",
    "        val2[j,i],dummy = sliced_MI(X[:,:ns[i]], Y[:,:ns[i]], ns[i])\n",
    "        print(str(j) + ',' + str(i))\n",
    "    \n",
    "mn = np.mean(mn_est)"
   ]
  },
  {
   "cell_type": "code",
   "execution_count": 12,
   "metadata": {},
   "outputs": [
    {
     "data": {
      "text/plain": [
       "<matplotlib.legend.Legend at 0x7f9cd09f6f10>"
      ]
     },
     "execution_count": 12,
     "metadata": {},
     "output_type": "execute_result"
    },
    {
     "data": {
      "image/png": "[encoded data removed]",
      "text/plain": [
       "<Figure size 432x288 with 1 Axes>"
      ]
     },
     "metadata": {
      "needs_background": "light"
     },
     "output_type": "display_data"
    }
   ],
   "source": [
    "#Best estimate available for the true value of the SMI (10*n datapoints, n*nmc slices)\n",
    "mn = np.mean(val0[:,-0])\n",
    "\n",
    "#Plot results showing RMSE to this estmated true value\n",
    "plt.loglog(ns, np.sqrt(np.sum((np.abs(val0 - mn))**2,axis=0)/nmc),'b-', label = 'Varying slices')\n",
    "plt.loglog(ns, np.sqrt(np.sum((np.abs(val1 - mn))**2,axis=0)/nmc), 'r-', label = 'Varying dataset size')\n",
    "plt.loglog(ns, np.sqrt(np.sum((np.abs(val2 - mn))**2,axis=0)/nmc), 'k-', label = 'Varying slices and dataset size')\n",
    "plt.axis([10,n,20e-3,.3])\n",
    "plt.ylabel('RMSE')\n",
    "plt.xlabel('n and/or # slices')\n",
    "plt.legend()\n",
    "#plt.savefig('MI_convergence_d10_s1000.eps')"
   ]
  },
  {
   "cell_type": "code",
   "execution_count": null,
   "metadata": {},
   "outputs": [],
   "source": []
  }
 ],
 "metadata": {
  "kernelspec": {
   "display_name": "Python 3 (ipykernel)",
   "language": "python",
   "name": "python3"
  },
  "language_info": {
   "codemirror_mode": {
    "name": "ipython",
    "version": 3
   },
   "file_extension": ".py",
   "mimetype": "text/x-python",
   "name": "python",
   "nbconvert_exporter": "python",
   "pygments_lexer": "ipython3",
   "version": "3.9.7"
  }
 },
 "nbformat": 4,
 "nbformat_minor": 4
}
